{
 "cells": [
  {
   "cell_type": "code",
   "execution_count": 1,
   "id": "36883db1-74bf-499f-b7fd-acf3507af99a",
   "metadata": {},
   "outputs": [],
   "source": [
    "import gymnasium as gym\n",
    "from gymnasium.wrappers import RecordVideo\n",
    "import matplotlib.pyplot as plt\n",
    "import numpy as np\n",
    "import pickle\n",
    "\n",
    "from scripts.ddqn_agent import DDQNAgent\n",
    "from scripts.training import Trainer, trainingInspector, test_agent, plot_test_results, compute_decay"
   ]
  },
  {
   "cell_type": "markdown",
   "id": "293c22d9-b44a-46ea-8043-a3159e23c4f1",
   "metadata": {},
   "source": [
    "## Hyperparameters"
   ]
  },
  {
   "cell_type": "code",
   "execution_count": 2,
   "id": "a1117de6-1bb6-4056-a286-45426cf61eb4",
   "metadata": {},
   "outputs": [],
   "source": [
    "def episode_trigger(x):\n",
    "    if x % 1000 == 0:\n",
    "        return True\n",
    "    return False\n",
    "\n",
    "def process_hyperparameters_ddqn(hyperparameters):\n",
    "    hyperparameters.update({\n",
    "        \"decay_type\": compute_decay(\n",
    "            hyperparameters[\"eps_start\"],\n",
    "            hyperparameters[\"eps_end\"],\n",
    "            hyperparameters[\"frac_episodes_to_decay\"],\n",
    "            hyperparameters[\"num_episodes\"],\n",
    "            hyperparameters[\"decay_type\"]\n",
    "        )\n",
    "    })\n",
    "\n",
    "    hyperparameters.pop(\"frac_episodes_to_decay\", None)\n",
    "    return hyperparameters\n",
    "    \n",
    "    "
   ]
  },
  {
   "cell_type": "code",
   "execution_count": 3,
   "id": "99c46212-1416-4935-a24d-8e9877064173",
   "metadata": {},
   "outputs": [],
   "source": [
    "# Top 3 hyperparameter configurations\n",
    "ddqn_type1_hyperparameter_list = [\n",
    "\n",
    "    process_hyperparameters_ddqn(_) for _ in  [\n",
    "    # Best performing hyperparameters\n",
    "    {\n",
    "        \"num_episodes\": 10000,\n",
    "        \"max_return\": 500,\n",
    "        \"BUFFER_SIZE\": int(1e5),\n",
    "        \"BATCH_SIZE\": 64,\n",
    "        \"UPDATE_EVERY\": 20,\n",
    "        \"LR\": 0.1,\n",
    "        \"eps_start\": 1,\n",
    "        \"eps_end\": 0.01,\n",
    "        \"decay_type\": \"linear\",\n",
    "        \"frac_episodes_to_decay\": 0.5\n",
    "    }\n",
    "\n",
    "]]"
   ]
  },
  {
   "cell_type": "markdown",
   "id": "ecf341a7-d0ed-4f47-8307-641a2050d4ce",
   "metadata": {},
   "source": [
    "## Running Experiments"
   ]
  },
  {
   "cell_type": "code",
   "execution_count": null,
   "id": "85cb263e-f010-47c9-abc9-114a4516a3c7",
   "metadata": {},
   "outputs": [
    {
     "name": "stderr",
     "output_type": "stream",
     "text": [
      "/home/lalit/my_venvs/rl_env/lib/python3.10/site-packages/gymnasium/wrappers/rendering.py:283: UserWarning: \u001b[33mWARN: Overwriting existing videos at /home/lalit/acads/DA6400/Assignment2/DA6400_RL_PA2/backups/cartpole-ddqn-type1-visualizations folder (try specifying a different `video_folder` for the `RecordVideo` wrapper if this is not desired)\u001b[0m\n",
      "  logger.warn(\n",
      "Training:  25%|█████████████████████████████▋                                                                                           | 2453/10000 [03:02<08:54, 14.11it/s, Mean Score=21]"
     ]
    }
   ],
   "source": [
    "env = gym.make('CartPole-v1', render_mode=\"rgb_array\")\n",
    "env = RecordVideo(\n",
    "    env,\n",
    "    video_folder=\"backups/cartpole-ddqn-type1-visualizations\",\n",
    "    name_prefix=\"eval\",\n",
    "    episode_trigger=episode_trigger\n",
    ")\n",
    "\n",
    "ddqn_type1_agent = DDQNAgent(\n",
    "    state_space=env.observation_space,\n",
    "    action_space=env.action_space,\n",
    "    network_type=2,\n",
    "    seed=0\n",
    ")\n",
    "\n",
    "trainer = Trainer()\n",
    "ddqn_type1_results = test_agent(env, ddqn_type1_agent, trainer, ddqn_type1_hyperparameter_list, num_experiments=1)\n",
    "\n",
    "env.close()"
   ]
  },
  {
   "cell_type": "code",
   "execution_count": null,
   "id": "dd82d788-d9db-4e42-aadb-cd0e7a5fe5b1",
   "metadata": {},
   "outputs": [],
   "source": [
    "combined_results = ddqn_type1_results\n",
    "\n",
    "# with open(\"backups/cartpole-plots/cartpole_ddqn_type1_results.pickle\", 'wb') as handle:\n",
    "#     pickle.dump(ddqn_type1_results, handle, protocol=pickle.HIGHEST_PROTOCOL)\n",
    "\n",
    "plot_test_results(combined_results, [0])"
   ]
  }
 ],
 "metadata": {
  "kernelspec": {
   "display_name": "rl_env",
   "language": "python",
   "name": "rl_env"
  },
  "language_info": {
   "codemirror_mode": {
    "name": "ipython",
    "version": 3
   },
   "file_extension": ".py",
   "mimetype": "text/x-python",
   "name": "python",
   "nbconvert_exporter": "python",
   "pygments_lexer": "ipython3",
   "version": "3.10.12"
  }
 },
 "nbformat": 4,
 "nbformat_minor": 5
}
