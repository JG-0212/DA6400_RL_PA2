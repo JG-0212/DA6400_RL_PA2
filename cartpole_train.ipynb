{
 "cells": [
  {
   "cell_type": "code",
   "execution_count": 1,
   "id": "36883db1-74bf-499f-b7fd-acf3507af99a",
   "metadata": {},
   "outputs": [],
   "source": [
    "import gymnasium as gym\n",
    "from gymnasium.wrappers import RecordVideo\n",
    "import matplotlib.pyplot as plt\n",
    "import numpy as np\n",
    "import torch\n",
    "import pickle\n",
    "\n",
    "from scripts.ddqn_agent import DDQNAgent\n",
    "from scripts.reinforce_agent import ReinforceMCwithoutBaselineAgent\n",
    "from scripts.training import Trainer, trainingInspector, test_agent, plot_test_results, compute_decay"
   ]
  },
  {
   "cell_type": "markdown",
   "id": "293c22d9-b44a-46ea-8043-a3159e23c4f1",
   "metadata": {},
   "source": [
    "## Hyperparameters"
   ]
  },
  {
   "cell_type": "code",
   "execution_count": 2,
   "id": "a1117de6-1bb6-4056-a286-45426cf61eb4",
   "metadata": {},
   "outputs": [],
   "source": [
    "def episode_trigger(x):\n",
    "    if x % 1000 == 0:\n",
    "        return True\n",
    "    return False\n",
    "\n",
    "def process_hyperparameters_ddqn(hyperparameters):\n",
    "    hyperparameters.update({\n",
    "        \"eps_decay\": compute_decay(\n",
    "            hyperparameters[\"eps_start\"],\n",
    "            hyperparameters[\"eps_end\"],\n",
    "            hyperparameters[\"frac_episodes_to_decay\"],\n",
    "            hyperparameters[\"num_episodes\"],\n",
    "            hyperparameters[\"decay_type\"]\n",
    "        )\n",
    "    })\n",
    "\n",
    "    hyperparameters.pop(\"frac_episodes_to_decay\", None)\n",
    "    return hyperparameters\n",
    "    \n",
    "    "
   ]
  },
  {
   "cell_type": "code",
   "execution_count": 3,
   "id": "99c46212-1416-4935-a24d-8e9877064173",
   "metadata": {},
   "outputs": [
    {
     "name": "stdout",
     "output_type": "stream",
     "text": [
      "[{'num_episodes': 1000, 'max_return': 500, 'BUFFER_SIZE': 5000000, 'BATCH_SIZE': 1024, 'UPDATE_EVERY': 20, 'LR': 0.0005, 'eps_start': 1, 'eps_end': 0.01, 'decay_type': 'exponential', 'eps_decay': np.float64(0.9934427784709274)}]\n"
     ]
    }
   ],
   "source": [
    "# Top 3 hyperparameter configurations\n",
    "ddqn_type1_hyperparameter_list = [\n",
    "\n",
    "    process_hyperparameters_ddqn(_) for _ in  [\n",
    "    # Best performing hyperparameters\n",
    "    {\n",
    "        \"num_episodes\": 1000,\n",
    "        \"max_return\": 500,\n",
    "        \"BUFFER_SIZE\": int(5e6),\n",
    "        \"BATCH_SIZE\": 1024,\n",
    "        \"UPDATE_EVERY\": 20,\n",
    "        \"LR\": 5e-4,\n",
    "        \"eps_start\": 1,\n",
    "        \"eps_end\": 0.01,\n",
    "        \"decay_type\": \"exponential\",\n",
    "        \"frac_episodes_to_decay\": 0.7\n",
    "    }\n",
    "\n",
    "]]\n",
    "\n",
    "reinforce_type1_hyperparameter_list = [\n",
    "    # Best performing hyperparameters\n",
    "    {\n",
    "        \"num_episodes\": 1000,\n",
    "        \"max_return\": 500,\n",
    "        \"LR_POLICY\": 5e-4,\n",
    "    }    \n",
    "]\n",
    "\n",
    "print(ddqn_type1_hyperparameter_list)"
   ]
  },
  {
   "cell_type": "markdown",
   "id": "ecf341a7-d0ed-4f47-8307-641a2050d4ce",
   "metadata": {},
   "source": [
    "## Running Experiments"
   ]
  },
  {
   "cell_type": "code",
   "execution_count": null,
   "id": "85cb263e-f010-47c9-abc9-114a4516a3c7",
   "metadata": {},
   "outputs": [],
   "source": [
    "env = gym.make('CartPole-v1', render_mode=\"rgb_array\")\n",
    "env = RecordVideo(\n",
    "    env,\n",
    "    video_folder=\"backups/cartpole-ddqn-type1-visualizations\",\n",
    "    name_prefix=\"eval\",\n",
    "    episode_trigger=episode_trigger\n",
    ")\n",
    "\n",
    "device = torch.device(\"cuda:0\" if torch.cuda.is_available() else \"cpu\")\n",
    "ddqn_type1_agent = DDQNAgent(\n",
    "    state_space=env.observation_space,\n",
    "    action_space=env.action_space,\n",
    "    network_type=1,\n",
    "    device = device,\n",
    "    seed=0\n",
    ")\n",
    "\n",
    "trainer = Trainer()\n",
    "ddqn_type1_results = test_agent(env, ddqn_type1_agent, trainer, ddqn_type1_hyperparameter_list, num_experiments=1)\n",
    "\n",
    "env.close()"
   ]
  },
  {
   "cell_type": "code",
   "execution_count": null,
   "id": "dd82d788-d9db-4e42-aadb-cd0e7a5fe5b1",
   "metadata": {},
   "outputs": [],
   "source": [
    "combined_results = ddqn_type1_results\n",
    "\n",
    "# with open(\"backups/cartpole-plots/cartpole_ddqn_type1_results.pickle\", 'wb') as handle:\n",
    "#     pickle.dump(ddqn_type1_results, handle, protocol=pickle.HIGHEST_PROTOCOL)\n",
    "\n",
    "plot_test_results(combined_results, [0])"
   ]
  },
  {
   "cell_type": "markdown",
   "id": "5ec3609c-5704-4b31-b305-288a6b41b12f",
   "metadata": {},
   "source": [
    "## REINFORCE"
   ]
  },
  {
   "cell_type": "code",
   "execution_count": null,
   "id": "26770d89-2b2b-4bcb-922f-867d5aaa1c03",
   "metadata": {},
   "outputs": [
    {
     "name": "stderr",
     "output_type": "stream",
     "text": [
      "/home/lalit/my_venvs/rl_env/lib/python3.10/site-packages/gymnasium/wrappers/rendering.py:283: UserWarning: \u001b[33mWARN: Overwriting existing videos at /home/lalit/acads/DA6400/Assignment2/DA6400_RL_PA2/backups/cartpole-ddqn-type1-visualizations folder (try specifying a different `video_folder` for the `RecordVideo` wrapper if this is not desired)\u001b[0m\n",
      "  logger.warn(\n",
      "Training:  93%|█████████████████████████████████████████████████████████████████████████████████████████████████████████████████▎        | 929/1000 [07:31<00:30,  2.29it/s, Mean Score=246]"
     ]
    }
   ],
   "source": [
    "env = gym.make('CartPole-v1', render_mode=\"rgb_array\")\n",
    "env = RecordVideo(\n",
    "    env,\n",
    "    video_folder=\"backups/cartpole-reinforce-type1-visualizations\",\n",
    "    name_prefix=\"eval\",\n",
    "    episode_trigger=episode_trigger\n",
    ")\n",
    "\n",
    "# device = torch.device(\"cuda:0\" if torch.cuda.is_available() else \"cpu\")\n",
    "device = 'cpu'\n",
    "reinforce_type1_agent = ReinforceMCwithoutBaselineAgent(\n",
    "    state_space=env.observation_space,\n",
    "    action_space=env.action_space,\n",
    "    device = device,\n",
    "    seed=0\n",
    ")\n",
    "\n",
    "trainer = Trainer()\n",
    "reinforce_type1_results = test_agent(env, reinforce_type1_agent, trainer, reinforce_type1_hyperparameter_list, num_experiments=1)\n",
    "\n",
    "env.close()"
   ]
  },
  {
   "cell_type": "code",
   "execution_count": null,
   "id": "682e9c38-b8ba-494c-8101-f3e5735b3805",
   "metadata": {},
   "outputs": [],
   "source": [
    "combined_results = reinforce_type1_results\n",
    "\n",
    "# with open(\"backups/cartpole-plots/cartpole_ddqn_type1_results.pickle\", 'wb') as handle:\n",
    "#     pickle.dump(ddqn_type1_results, handle, protocol=pickle.HIGHEST_PROTOCOL)\n",
    "\n",
    "plot_test_results(combined_results, [0])"
   ]
  },
  {
   "cell_type": "code",
   "execution_count": null,
   "id": "75e47eb1-4770-493a-a840-f61cd2b0179a",
   "metadata": {},
   "outputs": [],
   "source": []
  }
 ],
 "metadata": {
  "kernelspec": {
   "display_name": "rl_env",
   "language": "python",
   "name": "rl_env"
  },
  "language_info": {
   "codemirror_mode": {
    "name": "ipython",
    "version": 3
   },
   "file_extension": ".py",
   "mimetype": "text/x-python",
   "name": "python",
   "nbconvert_exporter": "python",
   "pygments_lexer": "ipython3",
   "version": "3.10.12"
  }
 },
 "nbformat": 4,
 "nbformat_minor": 5
}
